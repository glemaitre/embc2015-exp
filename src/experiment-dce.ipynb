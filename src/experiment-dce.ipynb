{
 "metadata": {
  "name": ""
 },
 "nbformat": 3,
 "nbformat_minor": 0,
 "worksheets": [
  {
   "cells": [
    {
     "cell_type": "code",
     "collapsed": false,
     "input": [
      "%matplotlib inline\n",
      "\n",
      "import matplotlib.pyplot as plt\n",
      "from mpl_toolkits.mplot3d import Axes3D\n",
      "\n",
      "import plotly.plotly as py\n",
      "from plotly.graph_objs import *\n",
      "import plotly.tools as tls\n",
      "py.sign_in('glemaitre', 'se04g0bmi2')\n",
      "\n",
      "import mpld3\n",
      "\n",
      "import numpy as np\n",
      "\n",
      "from scipy.stats import norm,rayleigh,rice\n",
      "from scipy.optimize import curve_fit"
     ],
     "language": "python",
     "metadata": {},
     "outputs": [
      {
       "output_type": "stream",
       "stream": "stderr",
       "text": [
        "/usr/lib/python2.7/dist-packages/numpy/oldnumeric/__init__.py:11: ModuleDeprecationWarning:\n",
        "\n",
        "The oldnumeric module will be dropped in Numpy 1.9\n",
        "\n"
       ]
      }
     ],
     "prompt_number": 1
    },
    {
     "cell_type": "heading",
     "level": 2,
     "metadata": {},
     "source": [
      "Load the data"
     ]
    },
    {
     "cell_type": "markdown",
     "metadata": {},
     "source": [
      "Impor the mat containing the gray levels information"
     ]
    },
    {
     "cell_type": "code",
     "collapsed": false,
     "input": [
      "from scipy.io import loadmat\n",
      "\n",
      "matfiles = loadmat('../data/raw/all_voxels.mat');\n",
      "\n",
      "data = np.asmatrix(matfiles['data'])\n",
      "data = data.astype(float)\n",
      "label = np.ravel(matfiles['label'])\n",
      "patient_sizes = np.ravel(matfiles['patient_sizes'])"
     ],
     "language": "python",
     "metadata": {},
     "outputs": [],
     "prompt_number": 2
    },
    {
     "cell_type": "markdown",
     "metadata": {},
     "source": [
      "Load only the dce dataset"
     ]
    },
    {
     "cell_type": "code",
     "collapsed": false,
     "input": [
      "data_dce = np.asmatrix(data[:, 3:-1])"
     ],
     "language": "python",
     "metadata": {},
     "outputs": [],
     "prompt_number": 3
    },
    {
     "cell_type": "markdown",
     "metadata": {},
     "source": [
      "Create a class Patient to facilitate data management.\n",
      "\n",
      "The data are the DCE and this sequence is composed of multiple series. Thus, there is a need to compute information for each serie composing the DCE:\n",
      "\n",
      "* the minimum intensity of the serie,\n",
      "* the maximum intensity of the serie,\n",
      "* the pdf of the serie,\n",
      "* the mean of the serie,\n",
      "* the std of the serie,\n",
      "* the parameters of a Gaussian fitting on the distribution."
     ]
    },
    {
     "cell_type": "code",
     "collapsed": false,
     "input": [
      "class Patient(object):\n",
      "    def __init__(self, data):\n",
      "        self.data = data.copy()\n",
      "        # Allocation of the minimum and maximum array for the series\n",
      "        self.max_int_serie = []\n",
      "        self.min_int_serie = []\n",
      "        # Allocate the pdf and the bin_edges\n",
      "        self.pdf_serie = []\n",
      "        self.bin_edges_serie = []\n",
      "        # Allocate the mean and std of the data\n",
      "        self.mean_data_serie = []\n",
      "        self.std_data_serie = []\n",
      "        self.gaussian_params_serie = []\n",
      "        for serie in range(data.shape[1]):\n",
      "            # Find the minimum and maximum for the given serie\n",
      "            self.max_int_serie.append(np.max(self.data[:, serie]))\n",
      "            self.min_int_serie.append(np.min(self.data[:, serie]))\n",
      "            # Compute the histogram\n",
      "            pdf, bin_edges = np.histogram(self.data[:, serie],\n",
      "                                                    bins = (self.max_int_serie[-1] - self.min_int_serie[-1]),\n",
      "                                                    density=True)\n",
      "            # Append the histogram\n",
      "            self.pdf_serie.append(pdf)\n",
      "            self.bin_edges_serie.append(bin_edges)\n",
      "        \n",
      "            self.mean_data_serie.append(np.mean(self.data[:, serie]))\n",
      "            self.std_data_serie.append(np.std(self.data[:, serie]))\n",
      "        \n",
      "            # Fit a gaussian distribution to get mean and std\n",
      "            self.gaussian_params_serie.append(norm.fit(self.data[:, serie]))"
     ],
     "language": "python",
     "metadata": {},
     "outputs": [],
     "prompt_number": 4
    },
    {
     "cell_type": "code",
     "collapsed": false,
     "input": [
      "#Build an histogram for each patient\n",
      "patient_list = [];\n",
      "for pt in range(np.size(patient_sizes)):\n",
      "\n",
      "    if (pt == 0):\n",
      "        start_idx = 0\n",
      "        end_idx = patient_sizes[pt] - 1\n",
      "    else:\n",
      "        start_idx = np.sum(patient_sizes[0 : pt])\n",
      "        end_idx = np.sum(patient_sizes[0 : pt + 1]) - 1\n",
      "        \n",
      "    # Create the patient data\n",
      "    patient_list.append(Patient(data_dce[start_idx : end_idx]))"
     ],
     "language": "python",
     "metadata": {},
     "outputs": [],
     "prompt_number": 5
    },
    {
     "cell_type": "heading",
     "level": 2,
     "metadata": {},
     "source": [
      "By patient analysis"
     ]
    },
    {
     "cell_type": "markdown",
     "metadata": {},
     "source": [
      "We can make a by patient analysis in order to perform the normalisation. We will first start with some visualisation."
     ]
    },
    {
     "cell_type": "code",
     "collapsed": false,
     "input": [
      "# Define the index of the patient to visualise\n",
      "pat_vis = 3\n",
      "\n",
      "pat_heatmap = []\n",
      "#for pat_vis in range(len(patient_list)):\n",
      "\n",
      "# Allocate the heatmap\n",
      "### Find the maximum and minimum from all series\n",
      "pt_min_intensity = min(patient_list[pat_vis].min_int_serie)\n",
      "pt_max_intensity = max(patient_list[pat_vis].max_int_serie)\n",
      "### Allocate the heat map with the right indexing\n",
      "heatmap_z_raw = np.zeros((len(patient_list[pat_vis].pdf_serie),\n",
      "                                      int(pt_max_intensity)));\n",
      "\n",
      "heatmap_y = []\n",
      "for s in range(len(patient_list[pat_vis].pdf_serie)):\n",
      "    str_pt = 'Serie ' + str(s) + ' '\n",
      "    heatmap_y.append(str_pt)\n",
      "    heatmap_z_raw[s, range(int(patient_list[pat_vis].min_int_serie[s]),\n",
      "                           int(patient_list[pat_vis].max_int_serie[s]))] = patient_list[pat_vis].pdf_serie[s]\n",
      "        \n",
      "plot_data = Data([Heatmap(z=heatmap_z_raw, y=heatmap_y, colorscale='Jet')])\n",
      "#layout = Layout(margin=Margin(l=0, r=0, b=0, t=0))\n",
      "#plot_data = Data(pat_heatmap)\n",
      "# Define a figure\n",
      "fig = Figure(data=plot_data)\n",
      "py.iplot(fig, filename='heatmap-dce')"
     ],
     "language": "python",
     "metadata": {},
     "outputs": [
      {
       "html": [
        "<iframe id=\"igraph\" scrolling=\"no\" style=\"border:none;\"seamless=\"seamless\" src=\"https://plot.ly/~glemaitre/80.embed\" height=\"525\" width=\"100%\"></iframe>"
       ],
       "metadata": {},
       "output_type": "pyout",
       "prompt_number": 7,
       "text": [
        "<plotly.tools.PlotlyDisplay at 0x7f015f15ec10>"
       ]
      }
     ],
     "prompt_number": 7
    },
    {
     "cell_type": "code",
     "collapsed": false,
     "input": [],
     "language": "python",
     "metadata": {},
     "outputs": []
    }
   ],
   "metadata": {}
  }
 ]
}