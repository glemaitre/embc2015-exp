{
 "metadata": {
  "name": ""
 },
 "nbformat": 3,
 "nbformat_minor": 0,
 "worksheets": [
  {
   "cells": [
    {
     "cell_type": "heading",
     "level": 1,
     "metadata": {},
     "source": [
      "Experiments with the T2W-MRI dataset"
     ]
    },
    {
     "cell_type": "code",
     "collapsed": false,
     "input": [
      "%matplotlib inline\n",
      "\n",
      "import matplotlib.pyplot as plt\n",
      "from mpl_toolkits.mplot3d import Axes3D\n",
      "\n",
      "import plotly.plotly as py\n",
      "from plotly.graph_objs import *\n",
      "py.sign_in('glemaitre', 'se04g0bmi2')\n",
      "\n",
      "import mpld3\n",
      "\n",
      "import numpy as np\n",
      "\n",
      "from scipy.stats import norm,rayleigh,rice\n",
      "from scipy.optimize import curve_fit"
     ],
     "language": "python",
     "metadata": {},
     "outputs": [
      {
       "output_type": "stream",
       "stream": "stderr",
       "text": [
        "/usr/lib/python2.7/dist-packages/numpy/oldnumeric/__init__.py:11: ModuleDeprecationWarning:\n",
        "\n",
        "The oldnumeric module will be dropped in Numpy 1.9\n",
        "\n"
       ]
      }
     ],
     "prompt_number": 1
    },
    {
     "cell_type": "heading",
     "level": 2,
     "metadata": {},
     "source": [
      "Read the data"
     ]
    },
    {
     "cell_type": "code",
     "collapsed": false,
     "input": [
      "from scipy.io import loadmat\n",
      "\n",
      "matfiles = loadmat('../data/raw/all_voxels.mat');\n",
      "\n",
      "data = np.asmatrix(matfiles['data'])\n",
      "data = data.astype(float)\n",
      "label = np.ravel(matfiles['label'])\n",
      "patient_sizes = np.ravel(matfiles['patient_sizes'])"
     ],
     "language": "python",
     "metadata": {},
     "outputs": [],
     "prompt_number": 2
    },
    {
     "cell_type": "markdown",
     "metadata": {},
     "source": [
      "Extract only the T2W data."
     ]
    },
    {
     "cell_type": "code",
     "collapsed": false,
     "input": [
      "data_t2w = np.ravel(data[:, 2])"
     ],
     "language": "python",
     "metadata": {},
     "outputs": [],
     "prompt_number": 3
    },
    {
     "cell_type": "heading",
     "level": 2,
     "metadata": {},
     "source": [
      "Histogram visualisation"
     ]
    },
    {
     "cell_type": "markdown",
     "metadata": {},
     "source": [
      "Class to handle each patient data."
     ]
    },
    {
     "cell_type": "code",
     "collapsed": false,
     "input": [
      "class Patient(object):\n",
      "    def __init__(self, data):\n",
      "        self.data = data.copy()\n",
      "        self.pdf, self.bin_edges = np.histogram(self.data, bins = (np.max(self.data) - np.min(self.data)), density=True)\n",
      "        \n",
      "        self.data_norm = data.copy()\n",
      "        \n",
      "        self.max_int = int(np.max(self.data))\n",
      "        self.min_int = int(np.min(self.data))\n",
      "        \n",
      "        self.rayleigh_params = rayleigh.fit(self.data)\n",
      "        self.gaussian_params = norm.fit(self.data)\n",
      "        #self.rice_params = rice.fit(self.data)"
     ],
     "language": "python",
     "metadata": {},
     "outputs": [],
     "prompt_number": 4
    },
    {
     "cell_type": "markdown",
     "metadata": {},
     "source": [
      "Extract data for each patient."
     ]
    },
    {
     "cell_type": "code",
     "collapsed": false,
     "input": [
      "#Build an histogram for each patient\n",
      "patient_list = [];\n",
      "for pt in range(np.size(patient_sizes)):\n",
      "\n",
      "    if (pt == 0):\n",
      "        start_idx = 0\n",
      "        end_idx = patient_sizes[pt] - 1\n",
      "    else:\n",
      "        start_idx = np.sum(patient_sizes[0 : pt])\n",
      "        end_idx = np.sum(patient_sizes[0 : pt + 1]) - 1\n",
      "        \n",
      "    # Create the patient data\n",
      "    patient_list.append(Patient(data_t2w[start_idx : end_idx]))"
     ],
     "language": "python",
     "metadata": {},
     "outputs": [],
     "prompt_number": 5
    },
    {
     "cell_type": "markdown",
     "metadata": {},
     "source": [
      "Create a heat map. Combine all the histograms properly."
     ]
    },
    {
     "cell_type": "code",
     "collapsed": false,
     "input": [
      "heatmap_z_raw = np.asmatrix(np.zeros((np.size(patient_list), int(np.max(data_t2w)))));\n",
      "\n",
      "heatmap_y = []\n",
      "for pt in range (np.size(patient_list)):\n",
      "    str_pt = 'Pt ' + str(pt) + ' '\n",
      "    heatmap_y.append(str_pt)\n",
      "    heatmap_z_raw[pt, range(patient_list[pt].min_int, patient_list[pt].max_int)] = patient_list[pt].pdf[:]\n",
      "    \n",
      "plot_data = Data([Heatmap(z=heatmap_z_raw, y=heatmap_y, colorscale='Jet')])\n",
      "#layout = Layout(margin=Margin(l=0, r=0, b=0, t=0))\n",
      "\n",
      "# Define a figure\n",
      "fig = Figure(data=plot_data)\n",
      "py.iplot(fig, filename='heatmap-t2w')"
     ],
     "language": "python",
     "metadata": {},
     "outputs": [
      {
       "html": [
        "<iframe id=\"igraph\" scrolling=\"no\" style=\"border:none;\"seamless=\"seamless\" src=\"https://plot.ly/~glemaitre/72.embed\" height=\"525\" width=\"100%\"></iframe>"
       ],
       "metadata": {},
       "output_type": "pyout",
       "prompt_number": 6,
       "text": [
        "<plotly.tools.PlotlyDisplay at 0x7f9f1cde7c50>"
       ]
      }
     ],
     "prompt_number": 6
    },
    {
     "cell_type": "heading",
     "level": 2,
     "metadata": {},
     "source": [
      "Histogram visualisation - Rayleigh distribution"
     ]
    },
    {
     "cell_type": "heading",
     "level": 3,
     "metadata": {},
     "source": [
      "Fitting on data"
     ]
    },
    {
     "cell_type": "markdown",
     "metadata": {},
     "source": [
      "We can observed the same data by fitting a Rayleigh distribution."
     ]
    },
    {
     "cell_type": "code",
     "collapsed": false,
     "input": [
      "heatmap_z_rayleigh = np.asmatrix(np.zeros((np.size(patient_list), int(np.max(data_t2w)))))\n",
      "\n",
      "heatmap_y = []\n",
      "for pt in range (np.size(patient_list)):\n",
      "    str_pt = 'Pt ' + str(pt) + ' '\n",
      "    heatmap_y.append(str_pt)\n",
      "    heatmap_z_rayleigh[pt, :] = rayleigh.pdf(range(int(np.max(data_t2w))), \\\n",
      "                                    loc=patient_list[pt].rayleigh_params[0], \\\n",
      "                                    scale=patient_list[pt].rayleigh_params[1])\n",
      "    \n",
      "plot_data = Data([Heatmap(z=heatmap_z_rayleigh, y=heatmap_y, colorscale='Jet')])\n",
      "#layout = Layout(margin=Margin(l=0, r=0, b=0, t=0))\n",
      "\n",
      "# Define a figure\n",
      "fig = Figure(data=plot_data)\n",
      "py.iplot(fig, filename='heatmap-t2w-fitted')"
     ],
     "language": "python",
     "metadata": {},
     "outputs": [
      {
       "html": [
        "<iframe id=\"igraph\" scrolling=\"no\" style=\"border:none;\"seamless=\"seamless\" src=\"https://plot.ly/~glemaitre/73.embed\" height=\"525\" width=\"100%\"></iframe>"
       ],
       "metadata": {},
       "output_type": "pyout",
       "prompt_number": 7,
       "text": [
        "<plotly.tools.PlotlyDisplay at 0x7f9f1bd8bb50>"
       ]
      }
     ],
     "prompt_number": 7
    },
    {
     "cell_type": "heading",
     "level": 2,
     "metadata": {},
     "source": [
      "Histogram visualisation - Normal distribution"
     ]
    },
    {
     "cell_type": "markdown",
     "metadata": {},
     "source": [
      "We can observed the same data by fitting a Normal distribution."
     ]
    },
    {
     "cell_type": "code",
     "collapsed": false,
     "input": [
      "heatmap_z_gaussian = np.asmatrix(np.zeros((np.size(patient_list), int(np.max(data_t2w)))));\n",
      "\n",
      "heatmap_y = []\n",
      "for pt in range (np.size(patient_list)):\n",
      "    str_pt = 'Pt ' + str(pt) + ' '\n",
      "    heatmap_y.append(str_pt)\n",
      "    heatmap_z_gaussian[pt, :] = norm.pdf(range(int(np.max(data_t2w))), \\\n",
      "                                    loc=patient_list[pt].gaussian_params[0], \\\n",
      "                                    scale=patient_list[pt].gaussian_params[1])\n",
      "    \n",
      "plot_data = Data([Heatmap(z=heatmap_z_gaussian, y=heatmap_y, colorscale='Jet')])\n",
      "#layout = Layout(margin=Margin(l=0, r=0, b=0, t=0))\n",
      "\n",
      "# Define a figure\n",
      "fig = Figure(data=plot_data)\n",
      "py.iplot(fig, filename='heatmap-t2w-fitted')"
     ],
     "language": "python",
     "metadata": {},
     "outputs": [
      {
       "html": [
        "<iframe id=\"igraph\" scrolling=\"no\" style=\"border:none;\"seamless=\"seamless\" src=\"https://plot.ly/~glemaitre/73.embed\" height=\"525\" width=\"100%\"></iframe>"
       ],
       "metadata": {},
       "output_type": "pyout",
       "prompt_number": 8,
       "text": [
        "<plotly.tools.PlotlyDisplay at 0x7f9f1bda3050>"
       ]
      }
     ],
     "prompt_number": 8
    },
    {
     "cell_type": "heading",
     "level": 2,
     "metadata": {},
     "source": [
      "Histogram visualisation - Rice distribution"
     ]
    },
    {
     "cell_type": "markdown",
     "metadata": {},
     "source": [
      "Define the Rice distribution"
     ]
    },
    {
     "cell_type": "code",
     "collapsed": false,
     "input": [
      "from scipy.special import iv\n",
      "def myfunc(x, factor, v, std):\n",
      "    fx = factor * (x / std**2) * np.exp( - (x**2 + v**2) / (2. * std**2))*iv(0, (x * v) / (std**2))\n",
      "    fx[np.nonzero(fx < 0)] = 0\n",
      "    return fx\n",
      "    #return factor * x * np.exp( - (x**2 + mean**2) / 2) * iv(0, x * mean)\n",
      "    #return iv(0, (x*mean)/(std**2))\n",
      "    #return factor * ((x - mean) / std**2) * np.exp( - ((x - mean)**2) / (2. * std**2)) * iv(0, x * mean / (std**2))"
     ],
     "language": "python",
     "metadata": {},
     "outputs": [],
     "prompt_number": 9
    },
    {
     "cell_type": "code",
     "collapsed": false,
     "input": [
      "x = np.linspace(0., 10., 1000)\n",
      "\n",
      "fig = plt.figure()\n",
      "f = 1.\n",
      "v = 0.\n",
      "s = 1.\n",
      "shift = -1.\n",
      "plt.plot(x, myfunc((x-shift), f, v, s))\n",
      "plt.show()"
     ],
     "language": "python",
     "metadata": {},
     "outputs": [
      {
       "metadata": {},
       "output_type": "display_data",
       "png": "[encoded data removed]",
       "text": [
        "<matplotlib.figure.Figure at 0x7f9f1c64f6d0>"
       ]
      }
     ],
     "prompt_number": 10
    },
    {
     "cell_type": "markdown",
     "metadata": {},
     "source": [
      "The paremeters which will be optimised are the following:\n",
      "\n",
      "* The amplitude a\n",
      "* The start of the curve b\n",
      "* The mean loc\n",
      "* the standard deviation sca"
     ]
    },
    {
     "cell_type": "code",
     "collapsed": false,
     "input": [
      "heatmap_z_rice = np.asmatrix(np.zeros((np.size(patient_list), int(np.max(data_t2w)))))\n",
      "\n",
      "params_rice = []\n",
      "\n",
      "for pt in range(np.size(patient_list)):\n",
      "        \n",
      "    y = np.ravel(heatmap_z_raw[pt, :])\n",
      "    x = np.ravel(np.divide(range(np.size(heatmap_z_raw[pt, :])), float(np.size(y))))\n",
      "    \n",
      "    # Try to make a strong initialisation\n",
      "    # Compute the CDF\n",
      "    #cdf = np.cumsum(y)\n",
      "    # percentage start\n",
      "    #pc_start = .01\n",
      "    #start_curve = x[np.nonzero(cdf > pc_start)]\n",
      "    #start_curve = start_curve[0]\n",
      "    v = x[np.argmax(y)]\n",
      "    std = .15\n",
      "    a = np.max(y) / np.max(rice.pdf(x, v, start_curve, std))\n",
      "       \n",
      "    fig = plt.figure()\n",
      "    #plt.plot(x, rice.pdf(x, v, start_curve, std))\n",
      "    plt.plot(x, myfunc(x, a, v, std))\n",
      "    plt.plot(x, y)\n",
      "        \n",
      "    popt, pcov = curve_fit(myfunc, x, y, p0=(a, v, std))\n",
      "    plt.plot(x, myfunc(x, popt[0], popt[1], popt[2]))\n",
      "    plt.show()\n",
      "    \n",
      "    str_pt = 'Pt ' + str(pt) + ' '\n",
      "    heatmap_y.append(str_pt)\n",
      "    heatmap_z_rice[pt, :] = np.ravel(myfunc(x, popt[0], popt[1], popt[2]))\n",
      "    params_rice.append(popt)\n",
      "    print popt\n",
      "    \n",
      "plot_data = Data([Heatmap(z=heatmap_z_rice, y=heatmap_y, colorscale='Jet')])\n",
      "#layout = Layout(margin=Margin(l=0, r=0, b=0, t=0))\n",
      "\n",
      "# Define a figure\n",
      "fig = Figure(data=plot_data)\n",
      "py.iplot(fig, filename='heatmap-t2w-fitted-rice')"
     ],
     "language": "python",
     "metadata": {},
     "outputs": [
      {
       "ename": "NameError",
       "evalue": "name 'start_curve' is not defined",
       "output_type": "pyerr",
       "traceback": [
        "\u001b[0;31m---------------------------------------------------------------------------\u001b[0m\n\u001b[0;31mNameError\u001b[0m                                 Traceback (most recent call last)",
        "\u001b[0;32m<ipython-input-11-dfa3bb8580cf>\u001b[0m in \u001b[0;36m<module>\u001b[0;34m()\u001b[0m\n\u001b[1;32m     17\u001b[0m     \u001b[0mv\u001b[0m \u001b[0;34m=\u001b[0m \u001b[0mx\u001b[0m\u001b[0;34m[\u001b[0m\u001b[0mnp\u001b[0m\u001b[0;34m.\u001b[0m\u001b[0margmax\u001b[0m\u001b[0;34m(\u001b[0m\u001b[0my\u001b[0m\u001b[0;34m)\u001b[0m\u001b[0;34m]\u001b[0m\u001b[0;34m\u001b[0m\u001b[0m\n\u001b[1;32m     18\u001b[0m     \u001b[0mstd\u001b[0m \u001b[0;34m=\u001b[0m \u001b[0;36m.15\u001b[0m\u001b[0;34m\u001b[0m\u001b[0m\n\u001b[0;32m---> 19\u001b[0;31m     \u001b[0ma\u001b[0m \u001b[0;34m=\u001b[0m \u001b[0mnp\u001b[0m\u001b[0;34m.\u001b[0m\u001b[0mmax\u001b[0m\u001b[0;34m(\u001b[0m\u001b[0my\u001b[0m\u001b[0;34m)\u001b[0m \u001b[0;34m/\u001b[0m \u001b[0mnp\u001b[0m\u001b[0;34m.\u001b[0m\u001b[0mmax\u001b[0m\u001b[0;34m(\u001b[0m\u001b[0mrice\u001b[0m\u001b[0;34m.\u001b[0m\u001b[0mpdf\u001b[0m\u001b[0;34m(\u001b[0m\u001b[0mx\u001b[0m\u001b[0;34m,\u001b[0m \u001b[0mv\u001b[0m\u001b[0;34m,\u001b[0m \u001b[0mstart_curve\u001b[0m\u001b[0;34m,\u001b[0m \u001b[0mstd\u001b[0m\u001b[0;34m)\u001b[0m\u001b[0;34m)\u001b[0m\u001b[0;34m\u001b[0m\u001b[0m\n\u001b[0m\u001b[1;32m     20\u001b[0m \u001b[0;34m\u001b[0m\u001b[0m\n\u001b[1;32m     21\u001b[0m     \u001b[0mfig\u001b[0m \u001b[0;34m=\u001b[0m \u001b[0mplt\u001b[0m\u001b[0;34m.\u001b[0m\u001b[0mfigure\u001b[0m\u001b[0;34m(\u001b[0m\u001b[0;34m)\u001b[0m\u001b[0;34m\u001b[0m\u001b[0m\n",
        "\u001b[0;31mNameError\u001b[0m: name 'start_curve' is not defined"
       ]
      }
     ],
     "prompt_number": 11
    },
    {
     "cell_type": "heading",
     "level": 2,
     "metadata": {},
     "source": [
      "Apply the normalisation"
     ]
    },
    {
     "cell_type": "markdown",
     "metadata": {},
     "source": [
      "Using the Rice distribution, let's normalized such as $f_{norm}(x) = \\frac{f(x) - (b - \\mu)}{\\sigma}$."
     ]
    },
    {
     "cell_type": "code",
     "collapsed": false,
     "input": [
      "heatmap_z_norm = np.asmatrix(np.zeros((np.size(patient_list), np.max(data_t2w))))\n",
      "\n",
      "heatmap_y = []\n",
      "# Normalise for each patient\n",
      "for pt in range(np.size(patient_list)):\n",
      "    \n",
      "    # Normmalise the data\n",
      "    scale_factor = np.max(data_t2w)\n",
      "    patient_list[pt].data_norm = np.round(patient_list[pt].data - scale_factor*(params_rice[pt][1] + params_rice[pt][2]))\n",
      "    #patient_list[pt].data_norm /= params_rice[pt][3]\n",
      "    #patient_list[pt].data_norm *= params_rice[pt][0]\n",
      "    \n",
      "    print params_rice[pt][1]\n",
      "    print params_rice[pt][2]\n",
      "    #print patient_list[pt].data_norm\n",
      "    #print np.min(patient_list[pt].data_norm)\n",
      "    #print np.max(patient_list[pt].data_norm)\n",
      "    \n",
      "    fig = plt.figure()\n",
      "    \n",
      "    n_bins = int(np.max(patient_list[pt].data_norm)) - int(np.min(patient_list[pt].data_norm))\n",
      "    pdf, bin_edges = np.histogram(patient_list[pt].data_norm, bins = (np.max(patient_list[pt].data) - np.min(patient_list[pt].data)), density=True)\n",
      "    plt.show()\n",
      "    \n",
      "    #heatmap_z_norm[pt, :] = n_bins\n",
      "    \n",
      "#plot_data = Data([Heatmap(z=heatmap_z_norm, colorscale='Jet')])\n",
      "#layout = Layout(margin=Margin(l=0, r=0, b=0, t=0))\n",
      "\n",
      "# Define a figure\n",
      "#fig = Figure(data=plot_data)\n",
      "#py.iplot(fig, filename='heatmap-t2w-norm')\n",
      "    "
     ],
     "language": "python",
     "metadata": {},
     "outputs": []
    },
    {
     "cell_type": "code",
     "collapsed": false,
     "input": [],
     "language": "python",
     "metadata": {},
     "outputs": []
    }
   ],
   "metadata": {}
  }
 ]
}