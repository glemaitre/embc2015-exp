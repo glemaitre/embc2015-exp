{
 "metadata": {
  "name": ""
 },
 "nbformat": 3,
 "nbformat_minor": 0,
 "worksheets": [
  {
   "cells": [
    {
     "cell_type": "heading",
     "level": 1,
     "metadata": {},
     "source": [
      "Experiments with the T2W-MRI dataset"
     ]
    },
    {
     "cell_type": "code",
     "collapsed": false,
     "input": [
      "%matplotlib inline\n",
      "\n",
      "import matplotlib.pyplot as plt\n",
      "from mpl_toolkits.mplot3d import Axes3D\n",
      "\n",
      "import plotly.plotly as py\n",
      "from plotly.graph_objs import *\n",
      "py.sign_in('glemaitre', 'se04g0bmi2')\n",
      "\n",
      "import mpld3\n",
      "\n",
      "import numpy as np\n",
      "\n",
      "from scipy.stats import norm,rayleigh,rice\n",
      "from scipy.optimize import curve_fit"
     ],
     "language": "python",
     "metadata": {},
     "outputs": [],
     "prompt_number": ""
    },
    {
     "cell_type": "heading",
     "level": 2,
     "metadata": {},
     "source": [
      "Read the data"
     ]
    },
    {
     "cell_type": "code",
     "collapsed": false,
     "input": [
      "from scipy.io import loadmat\n",
      "\n",
      "matfiles = loadmat('../data/raw/all_voxels.mat');\n",
      "\n",
      "data = np.asmatrix(matfiles['data'])\n",
      "data = data.astype(float)\n",
      "label = np.ravel(matfiles['label'])\n",
      "patient_sizes = np.ravel(matfiles['patient_sizes'])"
     ],
     "language": "python",
     "metadata": {},
     "outputs": [],
     "prompt_number": ""
    },
    {
     "cell_type": "markdown",
     "metadata": {},
     "source": [
      "Extract only the T2W data."
     ]
    },
    {
     "cell_type": "code",
     "collapsed": false,
     "input": [
      "data_t2w = np.ravel(data[:, 2])"
     ],
     "language": "python",
     "metadata": {},
     "outputs": [],
     "prompt_number": ""
    },
    {
     "cell_type": "heading",
     "level": 2,
     "metadata": {},
     "source": [
      "Histogram visualisation"
     ]
    },
    {
     "cell_type": "markdown",
     "metadata": {},
     "source": [
      "Class to handle each patient data."
     ]
    },
    {
     "cell_type": "code",
     "collapsed": false,
     "input": [
      "class Patient(object):\n",
      "    def __init__(self, data):\n",
      "        self.data = data.copy()\n",
      "        self.pdf, self.bin_edges = np.histogram(self.data, bins = (np.max(self.data) - np.min(self.data)), density=True)\n",
      "        \n",
      "        self.data_norm = data.copy()\n",
      "        \n",
      "        self.max_int = int(np.max(self.data))\n",
      "        self.min_int = int(np.min(self.data))\n",
      "        \n",
      "        self.mean_data = np.mean(self.data)\n",
      "        self.std_data = np.std(self.data)\n",
      "        \n",
      "        self.rayleigh_params = rayleigh.fit(self.data)\n",
      "        self.gaussian_params = norm.fit(self.data)\n",
      "        #self.rice_params = rice.fit(self.data)"
     ],
     "language": "python",
     "metadata": {},
     "outputs": [],
     "prompt_number": ""
    },
    {
     "cell_type": "markdown",
     "metadata": {},
     "source": [
      "Extract data for each patient."
     ]
    },
    {
     "cell_type": "code",
     "collapsed": false,
     "input": [
      "#Build an histogram for each patient\n",
      "patient_list = [];\n",
      "for pt in range(np.size(patient_sizes)):\n",
      "\n",
      "    if (pt == 0):\n",
      "        start_idx = 0\n",
      "        end_idx = patient_sizes[pt] - 1\n",
      "    else:\n",
      "        start_idx = np.sum(patient_sizes[0 : pt])\n",
      "        end_idx = np.sum(patient_sizes[0 : pt + 1]) - 1\n",
      "        \n",
      "    # Create the patient data\n",
      "    patient_list.append(Patient(data_t2w[start_idx : end_idx]))"
     ],
     "language": "python",
     "metadata": {},
     "outputs": [],
     "prompt_number": ""
    },
    {
     "cell_type": "markdown",
     "metadata": {},
     "source": [
      "Create a heat map. Combine all the histograms properly."
     ]
    },
    {
     "cell_type": "code",
     "collapsed": false,
     "input": [
      "heatmap_z_raw = np.asmatrix(np.zeros((np.size(patient_list), int(np.max(data_t2w)))));\n",
      "\n",
      "heatmap_y = []\n",
      "for pt in range (np.size(patient_list)):\n",
      "    str_pt = 'Pt ' + str(pt) + ' '\n",
      "    heatmap_y.append(str_pt)\n",
      "    heatmap_z_raw[pt, range(patient_list[pt].min_int, patient_list[pt].max_int)] = patient_list[pt].pdf[:]\n",
      "    \n",
      "plot_data = Data([Heatmap(z=heatmap_z_raw, y=heatmap_y, colorscale='Jet')])\n",
      "#layout = Layout(margin=Margin(l=0, r=0, b=0, t=0))\n",
      "\n",
      "# Define a figure\n",
      "fig = Figure(data=plot_data)\n",
      "py.iplot(fig, filename='heatmap-t2w')"
     ],
     "language": "python",
     "metadata": {},
     "outputs": [],
     "prompt_number": ""
    },
    {
     "cell_type": "heading",
     "level": 2,
     "metadata": {},
     "source": [
      "Histogram visualisation - Rayleigh distribution"
     ]
    },
    {
     "cell_type": "heading",
     "level": 3,
     "metadata": {},
     "source": [
      "Fitting on data"
     ]
    },
    {
     "cell_type": "markdown",
     "metadata": {},
     "source": [
      "We can observed the same data by fitting a Rayleigh distribution."
     ]
    },
    {
     "cell_type": "code",
     "collapsed": false,
     "input": [
      "heatmap_z_rayleigh = np.asmatrix(np.zeros((np.size(patient_list), int(np.max(data_t2w)))))\n",
      "\n",
      "heatmap_y = []\n",
      "for pt in range (np.size(patient_list)):\n",
      "    str_pt = 'Pt ' + str(pt) + ' '\n",
      "    heatmap_y.append(str_pt)\n",
      "    heatmap_z_rayleigh[pt, :] = rayleigh.pdf(range(int(np.max(data_t2w))), \\\n",
      "                                    loc=patient_list[pt].rayleigh_params[0], \\\n",
      "                                    scale=patient_list[pt].rayleigh_params[1])\n",
      "    \n",
      "plot_data = Data([Heatmap(z=heatmap_z_rayleigh, y=heatmap_y, colorscale='Jet')])\n",
      "#layout = Layout(margin=Margin(l=0, r=0, b=0, t=0))\n",
      "\n",
      "# Define a figure\n",
      "fig = Figure(data=plot_data)\n",
      "py.iplot(fig, filename='heatmap-t2w-fitted')"
     ],
     "language": "python",
     "metadata": {},
     "outputs": [],
     "prompt_number": ""
    },
    {
     "cell_type": "heading",
     "level": 2,
     "metadata": {},
     "source": [
      "Histogram visualisation - Normal distribution"
     ]
    },
    {
     "cell_type": "markdown",
     "metadata": {},
     "source": [
      "We can observed the same data by fitting a Normal distribution."
     ]
    },
    {
     "cell_type": "code",
     "collapsed": false,
     "input": [
      "heatmap_z_gaussian = np.asmatrix(np.zeros((np.size(patient_list), int(np.max(data_t2w)))));\n",
      "\n",
      "heatmap_y = []\n",
      "for pt in range (np.size(patient_list)):\n",
      "    str_pt = 'Pt ' + str(pt) + ' '\n",
      "    heatmap_y.append(str_pt)\n",
      "    heatmap_z_gaussian[pt, :] = norm.pdf(range(int(np.max(data_t2w))), \\\n",
      "                                    loc=patient_list[pt].gaussian_params[0], \\\n",
      "                                    scale=patient_list[pt].gaussian_params[1])\n",
      "    \n",
      "plot_data = Data([Heatmap(z=heatmap_z_gaussian, y=heatmap_y, colorscale='Jet')])\n",
      "#layout = Layout(margin=Margin(l=0, r=0, b=0, t=0))\n",
      "\n",
      "# Define a figure\n",
      "fig = Figure(data=plot_data)\n",
      "py.iplot(fig, filename='heatmap-t2w-fitted')"
     ],
     "language": "python",
     "metadata": {},
     "outputs": [],
     "prompt_number": ""
    },
    {
     "cell_type": "heading",
     "level": 2,
     "metadata": {},
     "source": [
      "Histogram visualisation - Rice distribution"
     ]
    },
    {
     "cell_type": "markdown",
     "metadata": {},
     "source": [
      "Define the Rice distribution"
     ]
    },
    {
     "cell_type": "code",
     "collapsed": false,
     "input": [
      "from scipy.special import iv\n",
      "def myRice(x, factor, v, std, shift):\n",
      "    #fx = factor * ( (x - shift) / std**2) * np.exp( - ((x - shift)**2 + v**2) / (2. * std**2))*iv(0, ((x - shift) * v) / (std**2))\n",
      "    #fx[np.nonzero(fx < 0)] = 0\n",
      "    #return fx\n",
      "    #return factor * x * np.exp( - (x**2 + mean**2) / 2) * iv(0, x * mean)\n",
      "    #return iv(0, (x*mean)/(std**2))\n",
      "    #return factor * ((x - mean) / std**2) * np.exp( - ((x - mean)**2) / (2. * std**2)) * iv(0, x * mean / (std**2))\n",
      "    if shift < 0.:\n",
      "        shift = 0.\n",
      "    return factor * rice.pdf(x, v, shift, std)"
     ],
     "language": "python",
     "metadata": {},
     "outputs": [],
     "prompt_number": ""
    },
    {
     "cell_type": "code",
     "collapsed": false,
     "input": [
      "x = np.linspace(0., 10., 1000)\n",
      "\n",
      "f = 1.\n",
      "v = 0.1\n",
      "s = 1.\n",
      "shift = .0\n",
      "\n",
      "print x[np.argmax(myRice(x, f, v, s, shift))]\n",
      "\n",
      "fig = plt.figure()\n",
      "plt.plot(x, myRice(x, f, v, s, shift))\n",
      "plt.show()"
     ],
     "language": "python",
     "metadata": {},
     "outputs": [],
     "prompt_number": ""
    },
    {
     "cell_type": "markdown",
     "metadata": {},
     "source": [
      "The paremeters which will be optimised are the following:\n",
      "\n",
      "* The amplitude a\n",
      "* The start of the curve b\n",
      "* The mean loc\n",
      "* the standard deviation sca"
     ]
    },
    {
     "cell_type": "code",
     "collapsed": false,
     "input": [
      "heatmap_z_rice = np.asmatrix(np.zeros((np.size(patient_list), int(np.max(data_t2w)))))\n",
      "\n",
      "params_rice = []\n",
      "\n",
      "fig, ax = plt.subplots(ncols=2, nrows=2, figsize=(20,10))\n",
      "\n",
      "for pt in range(np.size(patient_list)):\n",
      "        \n",
      "    y = np.ravel(heatmap_z_raw[pt, :])\n",
      "    x = np.ravel(np.divide(range(np.size(heatmap_z_raw[pt, :])), float(np.size(y))))\n",
      "    \n",
      "    # Try to make a strong initialisation\n",
      "    # Compute the CDF\n",
      "    cdf = np.cumsum(y)\n",
      "    # percentage start\n",
      "    pc_start = .01\n",
      "    start_curve = x[np.nonzero(cdf > pc_start)]\n",
      "    start_curve = start_curve[0]\n",
      "    v = x[np.argmax(y)]\n",
      "    std = patient_list[pt].std_data / np.max(data_t2w)\n",
      "    a = np.max(y) / np.max(myRice(x, 1., v, std, start_curve))\n",
      "       \n",
      "    \n",
      "    #plt.plot(x, rice.pdf(x, v, start_curve, std))\n",
      "    #plt.plot(x, myRice(x, 1., v, std, start_curve))\n",
      "    #plt.plot(x, myRice(x, a, v, std, start_curve))\n",
      "    #plt.plot(x, y)\n",
      "        \n",
      "    popt, pcov = curve_fit(myRice, x, y, p0=(a, v, std, start_curve))\n",
      "    ax[0][0].plot(x, myRice(x, popt[0], popt[1], popt[2], popt[3]), label=pt)\n",
      "    x2 = np.linspace(-.5, .5, 1000)\n",
      "    ax[0][1].plot(x2, myRice((x2) * popt[2], popt[0], popt[1], popt[2], popt[3]))\n",
      "    ax[1][0].plot(x2, myRice(x2 + rice.mean(popt[1], popt[3], popt[2]), popt[0], popt[1], popt[2], popt[3]))\n",
      "    x2 = np.linspace(-10, 10, 1000)\n",
      "    ax[1][1].plot(x2, myRice((x2 * popt[2] + rice.mean(popt[1], popt[3], popt[2])), popt[0], popt[1], popt[2], popt[3]))\n",
      "    print rice.mean(popt[1], popt[3], popt[2])\n",
      "    #plt.plot(x, popt[0] * rice.pdf(x, popt[1], popt[3], .1), linewidth=4)\n",
      "    \n",
      "    print 'The parameters found are: proportional factor = {}, v = {}, std = {} and shift = {}'.format(popt[0], popt[1], popt[2], popt[3])\n",
      "    \n",
      "    str_pt = 'Pt ' + str(pt) + ' '\n",
      "    heatmap_y.append(str_pt)\n",
      "    heatmap_z_rice[pt, :] = np.ravel(myRice(x, popt[0], popt[1], popt[2], popt[3]))\n",
      "    params_rice.append(popt)\n",
      "    \n",
      "#ax[1].axis=([0, 10, 0, .0040])\n",
      "ax[0][0].legend()\n",
      "mpld3.display(fig)\n",
      "#plot_data = Data([Heatmap(z=heatmap_z_rice, y=heatmap_y, colorscale='Jet')])\n",
      "#layout = Layout(margin=Margin(l=0, r=0, b=0, t=0))\n",
      "\n",
      "# Define a figure\n",
      "#fig = Figure(data=plot_data)\n",
      "#py.iplot(fig, filename='heatmap-t2w-fitted-rice')"
     ],
     "language": "python",
     "metadata": {},
     "outputs": [],
     "prompt_number": ""
    },
    {
     "cell_type": "heading",
     "level": 2,
     "metadata": {},
     "source": [
      "Apply the normalisation"
     ]
    },
    {
     "cell_type": "markdown",
     "metadata": {},
     "source": [
      "Using the Rice distribution, let's normalized such as $f_{norm}(x) = \\frac{f(x) - (b - \\mu)}{\\sigma}$."
     ]
    },
    {
     "cell_type": "code",
     "collapsed": false,
     "input": [
      "heatmap_z_norm = np.asmatrix(np.zeros((np.size(patient_list), np.max(data_t2w))))\n",
      "\n",
      "heatmap_y = []\n",
      "# Normalise for each patient\n",
      "for pt in range(np.size(patient_list)):\n",
      "    \n",
      "    # Normmalise the data\n",
      "    scale_factor = np.max(data_t2w)\n",
      "    # Compute the mean from the Rice parameter\n",
      "    lag_x = - (params_rice[pt][1]**2 / (2 * params_rice[pt][2]**2))\n",
      "    mean_rice = params_rice[pt][2] * np.sqrt(np.pi / 2.) * np.exp(lag_x / 2) * ((1 - lag_x) * iv(0, - lag_x / 2.) - lag_x * iv(1, - lag_x / 2.))\n",
      "    print mean_rice\n",
      "    # Remove the offset factor\n",
      "    patient_list[pt].data_norm = patient_list[pt].data - scale_factor * params_rice[pt][3]\n",
      "    # Substract the mean\n",
      "    patient_list[pt].data_norm = patient_list[pt].data_norm - scale_factor * (params_rice[pt][1] / params_rice[pt][2])\n",
      "    #patient_list[pt].data_norm\n",
      "    #patient_list[pt].data_norm /= params_rice[pt][3]\n",
      "    #patient_list[pt].data_norm *= params_rice[pt][0]\n",
      "    \n",
      "    print patient_list[pt].data_norm\n",
      "    \n",
      "    #print patient_list[pt].data_norm\n",
      "    #print np.min(patient_list[pt].data_norm)\n",
      "    #print np.max(patient_list[pt].data_norm)\n",
      "    \n",
      "    fig = plt.figure()\n",
      "    \n",
      "    n_bins = int(np.max(patient_list[pt].data_norm)) - int(np.min(patient_list[pt].data_norm))\n",
      "    pdf, bin_edges = np.histogram(patient_list[pt].data_norm, bins = (np.max(patient_list[pt].data) - np.min(patient_list[pt].data)), density=True)\n",
      "    plt.show()\n",
      "    \n",
      "    #heatmap_z_norm[pt, :] = n_bins\n",
      "    \n",
      "#plot_data = Data([Heatmap(z=heatmap_z_norm, colorscale='Jet')])\n",
      "#layout = Layout(margin=Margin(l=0, r=0, b=0, t=0))\n",
      "\n",
      "# Define a figure\n",
      "#fig = Figure(data=plot_data)\n",
      "#py.iplot(fig, filename='heatmap-t2w-norm')\n",
      "    "
     ],
     "language": "python",
     "metadata": {},
     "outputs": [],
     "prompt_number": ""
    },
    {
     "cell_type": "code",
     "collapsed": false,
     "input": [],
     "language": "python",
     "metadata": {},
     "outputs": [],
     "prompt_number": ""
    }
   ],
   "metadata": {}
  }
 ]
}